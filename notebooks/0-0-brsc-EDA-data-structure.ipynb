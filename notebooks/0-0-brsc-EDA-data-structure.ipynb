{
 "cells": [
  {
   "cell_type": "markdown",
   "id": "bca26139-7eb6-4971-b1a0-0d7a36a22df9",
   "metadata": {},
   "source": [
    "# Exploratory Data Analysis - Data Structure\n",
    "This notebook starts off the takehome challenge exploration and will contribute to the data understanding and metric creation process.\n",
    "\n",
    "The first thing to do is get all the data and understand the format, which is what is happenning here.\n",
    "\n",
    "Naming convention is a number (for ordering), the creator's initials, and a short `-` delimited description. [source](https://cookiecutter-data-science.drivendata.org/)"
   ]
  },
  {
   "cell_type": "markdown",
   "id": "e1b32c55-d2ff-4788-8be4-94bb9d075453",
   "metadata": {},
   "source": [
    "Starting off by loading some data and checking out how it looks."
   ]
  },
  {
   "cell_type": "code",
   "execution_count": 71,
   "id": "5ca5ea9a-3ab8-4065-a622-8ee61a5cfbd4",
   "metadata": {},
   "outputs": [],
   "source": [
    "import os\n",
    "import json"
   ]
  },
  {
   "cell_type": "code",
   "execution_count": 5,
   "id": "59c8ff24-0f24-4d23-a1b1-d5211d0b93f2",
   "metadata": {},
   "outputs": [
    {
     "name": "stdout",
     "output_type": "stream",
     "text": [
      "2.json\t4.json\t5.json\t7.json\n"
     ]
    }
   ],
   "source": [
    "!ls ../examples/model_outputs/"
   ]
  },
  {
   "cell_type": "code",
   "execution_count": 60,
   "id": "415127a5-da43-4a1f-bd4f-65c38004f158",
   "metadata": {},
   "outputs": [
    {
     "name": "stdout",
     "output_type": "stream",
     "text": [
      "example_01.json  example_05.json  example_09.json  example_13.json\n",
      "example_02.json  example_06.json  example_10.json\n",
      "example_03.json  example_07.json  example_11.json\n",
      "example_04.json  example_08.json  example_12.json\n"
     ]
    }
   ],
   "source": [
    "!ls ../examples/ground_truth/"
   ]
  },
  {
   "cell_type": "code",
   "execution_count": 58,
   "id": "9f64ec53-c304-49f2-8ba5-0ab826b884f3",
   "metadata": {},
   "outputs": [],
   "source": [
    "with open(\"../examples/model_outputs/2.json\", 'r') as f:\n",
    "    data = json.load(f)"
   ]
  },
  {
   "cell_type": "code",
   "execution_count": 61,
   "id": "f8b5d09f-88b2-43cf-8c67-53645168caa2",
   "metadata": {},
   "outputs": [],
   "source": [
    "with open(\"../examples/ground_truth/example_01.json\", 'r') as f:\n",
    "    gt_data = json.load(f)"
   ]
  },
  {
   "cell_type": "code",
   "execution_count": 68,
   "id": "830c0a99-86f9-46a8-b822-b08883577e9b",
   "metadata": {},
   "outputs": [
    {
     "data": {
      "text/plain": [
       "{'test_n': 1,\n",
       " 'input': 'Bathroom Remodel project: 7\\'x10\\'-6\", 8 ft ceilings\\nDemo a tub/shower combo\\nReplace with a complete shower system, with tiled walls, niche, and curb.\\nReplace tile floor with new tile.\\nNew double vanity.\\nNew Toilet.\\nPlumbing fixtures stay in place, no relocation or new rough-in needed.\\nRepaint whole room 3 coats.\\nReplace 4 light fixtures.\\nShower Glass Enclosure excluded.',\n",
       " 'rows': [{'sectionName': 'Demolition',\n",
       "   'qty': 66.0,\n",
       "   'rateUsd': 2.4,\n",
       "   'rowTotalCostUsd': 158.4,\n",
       "   'label': 'Demo Shower Surround',\n",
       "   'uom': 'SF',\n",
       "   'category': 'other'},\n",
       "  {'sectionName': 'Demolition',\n",
       "   'qty': 1.0,\n",
       "   'rateUsd': 80.0,\n",
       "   'rowTotalCostUsd': 80.0,\n",
       "   'label': 'Demo Vanity',\n",
       "   'uom': 'EA',\n",
       "   'category': 'other'},\n",
       "  {'sectionName': 'Demolition',\n",
       "   'qty': 73.0,\n",
       "   'rateUsd': 4.0,\n",
       "   'rowTotalCostUsd': 292.0,\n",
       "   'label': 'Demo Tile',\n",
       "   'uom': 'SF',\n",
       "   'category': 'other'},\n",
       "  {'sectionName': 'Demolition',\n",
       "   'qty': 1.0,\n",
       "   'rateUsd': 240.0,\n",
       "   'rowTotalCostUsd': 240.0,\n",
       "   'label': 'Demo Tub',\n",
       "   'uom': 'EA',\n",
       "   'category': 'other'},\n",
       "  {'sectionName': 'Demolition',\n",
       "   'qty': 3.0,\n",
       "   'rateUsd': 120.0,\n",
       "   'rowTotalCostUsd': 360.0,\n",
       "   'label': 'Demo Plumbing Fixtures',\n",
       "   'uom': 'EA',\n",
       "   'category': 'other'},\n",
       "  {'sectionName': 'Demolition',\n",
       "   'qty': 4.0,\n",
       "   'rateUsd': 80.0,\n",
       "   'rowTotalCostUsd': 320.0,\n",
       "   'label': 'Demo Light Fixtures',\n",
       "   'uom': 'EA',\n",
       "   'category': 'other'},\n",
       "  {'sectionName': 'Demolition',\n",
       "   'qty': 36.0,\n",
       "   'rateUsd': 1.6,\n",
       "   'rowTotalCostUsd': 57.6,\n",
       "   'label': 'Demo Baseboards',\n",
       "   'uom': 'LF',\n",
       "   'category': 'other'},\n",
       "  {'sectionName': 'Plumbing',\n",
       "   'qty': 1.0,\n",
       "   'rateUsd': 520.0,\n",
       "   'rowTotalCostUsd': 520.0,\n",
       "   'label': 'Install Shower Pan',\n",
       "   'uom': 'EA',\n",
       "   'category': 'other'},\n",
       "  {'sectionName': 'Plumbing',\n",
       "   'qty': 1.0,\n",
       "   'rateUsd': 160.0,\n",
       "   'rowTotalCostUsd': 160.0,\n",
       "   'label': 'Install Shower Valve',\n",
       "   'uom': 'EA',\n",
       "   'category': 'other'},\n",
       "  {'sectionName': 'Plumbing',\n",
       "   'qty': 1.0,\n",
       "   'rateUsd': 240.0,\n",
       "   'rowTotalCostUsd': 240.0,\n",
       "   'label': 'Install Shower Faucet',\n",
       "   'uom': 'EA',\n",
       "   'category': 'other'},\n",
       "  {'sectionName': 'Plumbing',\n",
       "   'qty': 1.0,\n",
       "   'rateUsd': 800.0,\n",
       "   'rowTotalCostUsd': 800.0,\n",
       "   'label': 'Install Vanity',\n",
       "   'uom': 'EA',\n",
       "   'category': 'other'},\n",
       "  {'sectionName': 'Plumbing',\n",
       "   'qty': 2.0,\n",
       "   'rateUsd': 160.0,\n",
       "   'rowTotalCostUsd': 320.0,\n",
       "   'label': 'Install Sink Faucet',\n",
       "   'uom': 'EA',\n",
       "   'category': 'other'},\n",
       "  {'sectionName': 'Plumbing',\n",
       "   'qty': 1.0,\n",
       "   'rateUsd': 400.0,\n",
       "   'rowTotalCostUsd': 400.0,\n",
       "   'label': 'Install Toilet',\n",
       "   'uom': 'EA',\n",
       "   'category': 'other'},\n",
       "  {'sectionName': 'Electrical',\n",
       "   'qty': 4.0,\n",
       "   'rateUsd': 240.0,\n",
       "   'rowTotalCostUsd': 960.0,\n",
       "   'label': 'Install Light Fixtures',\n",
       "   'uom': 'EA',\n",
       "   'category': 'other'},\n",
       "  {'sectionName': 'Trim',\n",
       "   'qty': 36.0,\n",
       "   'rateUsd': 4.0,\n",
       "   'rowTotalCostUsd': 144.0,\n",
       "   'label': 'Install Baseboards',\n",
       "   'uom': 'LF',\n",
       "   'category': 'other'},\n",
       "  {'sectionName': 'Painting',\n",
       "   'qty': 288.0,\n",
       "   'rateUsd': 2.4,\n",
       "   'rowTotalCostUsd': 691.2,\n",
       "   'label': 'Paint Walls - 3 Coats',\n",
       "   'uom': 'SF',\n",
       "   'category': 'other'},\n",
       "  {'sectionName': 'Painting',\n",
       "   'qty': 73.0,\n",
       "   'rateUsd': 2.4,\n",
       "   'rowTotalCostUsd': 175.2,\n",
       "   'label': 'Paint Ceiling - 3 Coats',\n",
       "   'uom': 'SF',\n",
       "   'category': 'other'},\n",
       "  {'sectionName': 'Painting',\n",
       "   'qty': 56.0,\n",
       "   'rateUsd': 2.4,\n",
       "   'rowTotalCostUsd': 134.4,\n",
       "   'label': 'Paint Trim - 3 Coats',\n",
       "   'uom': 'LF',\n",
       "   'category': 'other'},\n",
       "  {'sectionName': 'Tile',\n",
       "   'qty': 66.0,\n",
       "   'rateUsd': 16.0,\n",
       "   'rowTotalCostUsd': 1056.0,\n",
       "   'label': 'Install Wall Tile',\n",
       "   'uom': 'SF',\n",
       "   'category': 'other'},\n",
       "  {'sectionName': 'Tile',\n",
       "   'qty': 73.0,\n",
       "   'rateUsd': 16.0,\n",
       "   'rowTotalCostUsd': 1168.0,\n",
       "   'label': 'Install Floor Tile',\n",
       "   'uom': 'SF',\n",
       "   'category': 'other'},\n",
       "  {'sectionName': 'Tile',\n",
       "   'qty': 1.0,\n",
       "   'rateUsd': 240.0,\n",
       "   'rowTotalCostUsd': 240.0,\n",
       "   'label': 'Install Shower Curb',\n",
       "   'uom': 'EA',\n",
       "   'category': 'other'},\n",
       "  {'sectionName': 'Tile',\n",
       "   'qty': 1.0,\n",
       "   'rateUsd': 240.0,\n",
       "   'rowTotalCostUsd': 240.0,\n",
       "   'label': 'Install Shower Niche',\n",
       "   'uom': 'EA',\n",
       "   'category': 'other'}],\n",
       " 'totalCostUsd': 8756.8}"
      ]
     },
     "execution_count": 68,
     "metadata": {},
     "output_type": "execute_result"
    }
   ],
   "source": [
    "gt_data"
   ]
  },
  {
   "cell_type": "code",
   "execution_count": 36,
   "id": "fe8b5526-3a34-4027-9a01-e8818f5477e8",
   "metadata": {},
   "outputs": [
    {
     "data": {
      "text/plain": [
       "{'valid_file_name': 'example_01',\n",
       " 'rows': [{'label': 'Protect Work Area and Surroundings',\n",
       "   'qty': 75.0,\n",
       "   'uom': 'SF',\n",
       "   'rateUsd': 0.25,\n",
       "   'rowTotalCostUsd': 18.75,\n",
       "   'category': 'labor',\n",
       "   'sectionName': 'Demolition',\n",
       "   'metadata': None},\n",
       "  {'label': 'Demo Tub',\n",
       "   'qty': 2.0,\n",
       "   'uom': 'HRS',\n",
       "   'rateUsd': 65.0,\n",
       "   'rowTotalCostUsd': 130.0,\n",
       "   'category': 'labor',\n",
       "   'sectionName': 'Demolition',\n",
       "   'metadata': None},\n",
       "  {'label': 'Demo Shower Pan',\n",
       "   'qty': 2.0,\n",
       "   'uom': 'HRS',\n",
       "   'rateUsd': 65.0,\n",
       "   'rowTotalCostUsd': 130.0,\n",
       "   'category': 'labor',\n",
       "   'sectionName': 'Demolition',\n",
       "   'metadata': None},\n",
       "  {'label': 'Demo Floor Tile',\n",
       "   'qty': 8.0,\n",
       "   'uom': 'HRS',\n",
       "   'rateUsd': 65.0,\n",
       "   'rowTotalCostUsd': 520.0,\n",
       "   'category': 'labor',\n",
       "   'sectionName': 'Demolition',\n",
       "   'metadata': None},\n",
       "  {'label': 'Demo Vanity',\n",
       "   'qty': 1.0,\n",
       "   'uom': 'HRS',\n",
       "   'rateUsd': 65.0,\n",
       "   'rowTotalCostUsd': 65.0,\n",
       "   'category': 'labor',\n",
       "   'sectionName': 'Demolition',\n",
       "   'metadata': None},\n",
       "  {'label': 'Disposal Costs',\n",
       "   'qty': 1.0,\n",
       "   'uom': 'EA',\n",
       "   'rateUsd': 400.0,\n",
       "   'rowTotalCostUsd': 400.0,\n",
       "   'category': 'labor',\n",
       "   'sectionName': 'Demolition',\n",
       "   'metadata': None},\n",
       "  {'label': 'Shower Wall Tile',\n",
       "   'qty': 150.0,\n",
       "   'uom': 'SF',\n",
       "   'rateUsd': 8.0,\n",
       "   'rowTotalCostUsd': 1200.0,\n",
       "   'category': 'material',\n",
       "   'sectionName': 'Tile',\n",
       "   'metadata': None},\n",
       "  {'label': 'Bathroom Floor Tile',\n",
       "   'qty': 74.0,\n",
       "   'uom': 'SF',\n",
       "   'rateUsd': 8.0,\n",
       "   'rowTotalCostUsd': 592.0,\n",
       "   'category': 'material',\n",
       "   'sectionName': 'Tile',\n",
       "   'metadata': None},\n",
       "  {'label': 'Membrane',\n",
       "   'qty': 224.0,\n",
       "   'uom': 'SF',\n",
       "   'rateUsd': 2.5,\n",
       "   'rowTotalCostUsd': 560.0,\n",
       "   'category': 'material',\n",
       "   'sectionName': 'Tile',\n",
       "   'metadata': None},\n",
       "  {'label': 'Mortar',\n",
       "   'qty': 150.0,\n",
       "   'uom': 'LB',\n",
       "   'rateUsd': 0.2,\n",
       "   'rowTotalCostUsd': 30.0,\n",
       "   'category': 'material',\n",
       "   'sectionName': 'Tile',\n",
       "   'metadata': None},\n",
       "  {'label': 'Grout',\n",
       "   'qty': 1.0,\n",
       "   'uom': 'GAL',\n",
       "   'rateUsd': 40.0,\n",
       "   'rowTotalCostUsd': 40.0,\n",
       "   'category': 'material',\n",
       "   'sectionName': 'Tile',\n",
       "   'metadata': None},\n",
       "  {'label': 'Spacers',\n",
       "   'qty': 3.0,\n",
       "   'uom': 'BOX',\n",
       "   'rateUsd': 10.0,\n",
       "   'rowTotalCostUsd': 30.0,\n",
       "   'category': 'material',\n",
       "   'sectionName': 'Tile',\n",
       "   'metadata': None},\n",
       "  {'label': 'Tile Installation Labor',\n",
       "   'qty': 22.0,\n",
       "   'uom': 'HRS',\n",
       "   'rateUsd': 65.0,\n",
       "   'rowTotalCostUsd': 1430.0,\n",
       "   'category': 'labor',\n",
       "   'sectionName': 'Tile',\n",
       "   'metadata': None},\n",
       "  {'label': 'Mask Off and Protect Work Area',\n",
       "   'qty': 75.0,\n",
       "   'uom': 'SF',\n",
       "   'rateUsd': 0.3,\n",
       "   'rowTotalCostUsd': 22.5,\n",
       "   'category': 'material',\n",
       "   'sectionName': 'Painting',\n",
       "   'metadata': None},\n",
       "  {'label': 'Prepare Wall Surfaces for Paint',\n",
       "   'qty': 188.0,\n",
       "   'uom': 'SF',\n",
       "   'rateUsd': 0.3,\n",
       "   'rowTotalCostUsd': 56.4,\n",
       "   'category': 'material',\n",
       "   'sectionName': 'Painting',\n",
       "   'metadata': None},\n",
       "  {'label': 'Prepare Ceiling Surfaces for Paint',\n",
       "   'qty': 75.0,\n",
       "   'uom': 'SF',\n",
       "   'rateUsd': 0.3,\n",
       "   'rowTotalCostUsd': 22.5,\n",
       "   'category': 'material',\n",
       "   'sectionName': 'Painting',\n",
       "   'metadata': None},\n",
       "  {'label': 'Finish Paint (Sherwin Williams Duration Line)',\n",
       "   'qty': 2.0,\n",
       "   'uom': 'GAL',\n",
       "   'rateUsd': 55.0,\n",
       "   'rowTotalCostUsd': 110.0,\n",
       "   'category': 'material',\n",
       "   'sectionName': 'Painting',\n",
       "   'metadata': None},\n",
       "  {'label': 'Painting Supplies and Consumables',\n",
       "   'qty': 1.0,\n",
       "   'uom': 'EA',\n",
       "   'rateUsd': 50.0,\n",
       "   'rowTotalCostUsd': 50.0,\n",
       "   'category': 'material',\n",
       "   'sectionName': 'Painting',\n",
       "   'metadata': None},\n",
       "  {'label': 'Painting Labor',\n",
       "   'qty': 4.0,\n",
       "   'uom': 'HRS',\n",
       "   'rateUsd': 65.0,\n",
       "   'rowTotalCostUsd': 260.0,\n",
       "   'category': 'labor',\n",
       "   'sectionName': 'Painting',\n",
       "   'metadata': None},\n",
       "  {'label': 'Bathroom Vanity Cabinet',\n",
       "   'qty': 4.0,\n",
       "   'uom': 'LF',\n",
       "   'rateUsd': 300.0,\n",
       "   'rowTotalCostUsd': 1200.0,\n",
       "   'category': 'material',\n",
       "   'sectionName': 'Cabinets',\n",
       "   'metadata': None},\n",
       "  {'label': 'Cabinet Doors',\n",
       "   'qty': 2.0,\n",
       "   'uom': 'EA',\n",
       "   'rateUsd': 150.0,\n",
       "   'rowTotalCostUsd': 300.0,\n",
       "   'category': 'material',\n",
       "   'sectionName': 'Cabinets',\n",
       "   'metadata': None},\n",
       "  {'label': 'Cabinet Drawer Hardware',\n",
       "   'qty': 4.0,\n",
       "   'uom': 'EA',\n",
       "   'rateUsd': 15.0,\n",
       "   'rowTotalCostUsd': 60.0,\n",
       "   'category': 'material',\n",
       "   'sectionName': 'Cabinets',\n",
       "   'metadata': None},\n",
       "  {'label': 'Cabinet Installation Labor',\n",
       "   'qty': 8.0,\n",
       "   'uom': 'HRS',\n",
       "   'rateUsd': 75.0,\n",
       "   'rowTotalCostUsd': 600.0,\n",
       "   'category': 'labor',\n",
       "   'sectionName': 'Cabinets',\n",
       "   'metadata': None},\n",
       "  {'label': 'Shower Faucet Set',\n",
       "   'qty': 1.0,\n",
       "   'uom': 'EA',\n",
       "   'rateUsd': 250.0,\n",
       "   'rowTotalCostUsd': 250.0,\n",
       "   'category': 'material',\n",
       "   'sectionName': 'Plumbing',\n",
       "   'metadata': None},\n",
       "  {'label': 'Shower Drain',\n",
       "   'qty': 1.0,\n",
       "   'uom': 'EA',\n",
       "   'rateUsd': 50.0,\n",
       "   'rowTotalCostUsd': 50.0,\n",
       "   'category': 'material',\n",
       "   'sectionName': 'Plumbing',\n",
       "   'metadata': None},\n",
       "  {'label': 'Toilet',\n",
       "   'qty': 1.0,\n",
       "   'uom': 'EA',\n",
       "   'rateUsd': 250.0,\n",
       "   'rowTotalCostUsd': 250.0,\n",
       "   'category': 'material',\n",
       "   'sectionName': 'Plumbing',\n",
       "   'metadata': None},\n",
       "  {'label': 'Plumbing Labor - Rough In and Finish',\n",
       "   'qty': 6.0,\n",
       "   'uom': 'HRS',\n",
       "   'rateUsd': 65.0,\n",
       "   'rowTotalCostUsd': 390.0,\n",
       "   'category': 'labor',\n",
       "   'sectionName': 'Plumbing',\n",
       "   'metadata': None},\n",
       "  {'label': 'Bathroom Light Fixtures',\n",
       "   'qty': 4.0,\n",
       "   'uom': 'EA',\n",
       "   'rateUsd': 300.0,\n",
       "   'rowTotalCostUsd': 1200.0,\n",
       "   'category': 'material',\n",
       "   'sectionName': 'Electrical',\n",
       "   'metadata': None},\n",
       "  {'label': 'Bathroom Lighting Labor',\n",
       "   'qty': 4.0,\n",
       "   'uom': 'HRS',\n",
       "   'rateUsd': 65.0,\n",
       "   'rowTotalCostUsd': 260.0,\n",
       "   'category': 'labor',\n",
       "   'sectionName': 'Electrical',\n",
       "   'metadata': None}],\n",
       " 'time_to_estimate_sec': 21.03008008003235}"
      ]
     },
     "execution_count": 36,
     "metadata": {},
     "output_type": "execute_result"
    }
   ],
   "source": [
    "data[\"estimate_preds\"][0]"
   ]
  },
  {
   "cell_type": "code",
   "execution_count": 51,
   "id": "ba850479-468b-4795-8b36-0250c957850c",
   "metadata": {},
   "outputs": [
    {
     "data": {
      "text/plain": [
       "dict_keys(['valid_file_name', 'rows', 'time_to_estimate_sec'])"
      ]
     },
     "execution_count": 51,
     "metadata": {},
     "output_type": "execute_result"
    }
   ],
   "source": [
    "data[\"estimate_preds\"][0].keys()"
   ]
  },
  {
   "cell_type": "code",
   "execution_count": 50,
   "id": "74725f07-0a2f-43de-9dc1-52bc552261a2",
   "metadata": {},
   "outputs": [
    {
     "data": {
      "text/plain": [
       "['Bathroom Floor Tile',\n",
       " 'Bathroom Vanity Cabinet',\n",
       " 'Cabinet Installation Labor',\n",
       " 'Demo Floor Tile',\n",
       " 'Demo Tub',\n",
       " 'Demo Vanity',\n",
       " 'Disposal Costs',\n",
       " 'Finish Paint (Sherwin Williams Duration Line)',\n",
       " 'Grout',\n",
       " 'Labor',\n",
       " 'Mask Off and Protect Work Area',\n",
       " 'Membrane',\n",
       " 'Mortar',\n",
       " 'PEX Piping',\n",
       " 'PVC Drain Piping',\n",
       " 'Painting Labor',\n",
       " 'Painting Supplies and Consumables',\n",
       " 'Pipe Fittings and Adhesives',\n",
       " 'Plumbing Labor - Rough In and Finish',\n",
       " 'Prepare Ceiling Surfaces for Paint',\n",
       " 'Prepare Wall Surfaces for Paint',\n",
       " 'Protect Work Area and Surroundings',\n",
       " 'Recessed Lighting',\n",
       " 'Shower Wall Tile',\n",
       " 'Spacers',\n",
       " 'Tile Installation Labor',\n",
       " 'Toilet']"
      ]
     },
     "execution_count": 50,
     "metadata": {},
     "output_type": "execute_result"
    }
   ],
   "source": [
    "sorted([(row['label']) for row in data[\"estimate_preds\"][1]['rows']])"
   ]
  },
  {
   "cell_type": "code",
   "execution_count": 49,
   "id": "8849ba2b-677c-4240-b208-9dbd8c6e96b1",
   "metadata": {},
   "outputs": [
    {
     "data": {
      "text/plain": [
       "['Bathroom Floor Tile',\n",
       " 'Bathroom Light Fixtures',\n",
       " 'Bathroom Lighting Labor',\n",
       " 'Bathroom Vanity Cabinet',\n",
       " 'Cabinet Doors',\n",
       " 'Cabinet Drawer Hardware',\n",
       " 'Cabinet Installation Labor',\n",
       " 'Demo Floor Tile',\n",
       " 'Demo Shower Pan',\n",
       " 'Demo Tub',\n",
       " 'Demo Vanity',\n",
       " 'Disposal Costs',\n",
       " 'Finish Paint (Sherwin Williams Duration Line)',\n",
       " 'Grout',\n",
       " 'Mask Off and Protect Work Area',\n",
       " 'Membrane',\n",
       " 'Mortar',\n",
       " 'Painting Labor',\n",
       " 'Painting Supplies and Consumables',\n",
       " 'Plumbing Labor - Rough In and Finish',\n",
       " 'Prepare Ceiling Surfaces for Paint',\n",
       " 'Prepare Wall Surfaces for Paint',\n",
       " 'Protect Work Area and Surroundings',\n",
       " 'Shower Drain',\n",
       " 'Shower Faucet Set',\n",
       " 'Shower Wall Tile',\n",
       " 'Spacers',\n",
       " 'Tile Installation Labor',\n",
       " 'Toilet']"
      ]
     },
     "execution_count": 49,
     "metadata": {},
     "output_type": "execute_result"
    }
   ],
   "source": [
    "sorted([(row['label']) for row in data[\"estimate_preds\"][0]['rows']])"
   ]
  },
  {
   "cell_type": "code",
   "execution_count": 53,
   "id": "2af37a8e-602f-4b7e-a9c7-674aa8cff72b",
   "metadata": {},
   "outputs": [
    {
     "data": {
      "text/plain": [
       "['labor', 'material']"
      ]
     },
     "execution_count": 53,
     "metadata": {},
     "output_type": "execute_result"
    }
   ],
   "source": [
    "sorted(list(set([(row['category']) for row in data[\"estimate_preds\"][0]['rows']])))"
   ]
  },
  {
   "cell_type": "code",
   "execution_count": 57,
   "id": "9200915f-1953-4c20-8ede-8792af78686a",
   "metadata": {},
   "outputs": [
    {
     "data": {
      "text/plain": [
       "['Cabinets', 'Demolition', 'Electrical', 'Painting', 'Plumbing', 'Tile']"
      ]
     },
     "execution_count": 57,
     "metadata": {},
     "output_type": "execute_result"
    }
   ],
   "source": [
    "sorted(list(set([(row['sectionName']) for row in data[\"estimate_preds\"][0]['rows']])))"
   ]
  },
  {
   "cell_type": "code",
   "execution_count": 70,
   "id": "ca842958-5a68-4317-8d5c-5eb32e2e4d54",
   "metadata": {},
   "outputs": [
    {
     "data": {
      "text/plain": [
       "['Demolition', 'Electrical', 'Painting', 'Plumbing', 'Tile', 'Trim']"
      ]
     },
     "execution_count": 70,
     "metadata": {},
     "output_type": "execute_result"
    }
   ],
   "source": [
    "sorted(list(set([(row['sectionName']) for row in gt_data['rows']])))"
   ]
  },
  {
   "cell_type": "code",
   "execution_count": 78,
   "id": "3750cfbb-675e-43ab-9228-5297f8c55ff7",
   "metadata": {},
   "outputs": [
    {
     "name": "stdout",
     "output_type": "stream",
     "text": [
      "2.json\n",
      "['example_01', 'example_02', 'example_03', 'example_04', 'example_05', 'example_06', 'example_07', 'example_08', 'example_09', 'example_10', 'example_11', 'example_12', 'example_13']\n",
      "-----\n",
      "4.json\n",
      "['example_01', 'example_02', 'example_03', 'example_04', 'example_05', 'example_06', 'example_07', 'example_08', 'example_09', 'example_10', 'example_11', 'example_12', 'example_13']\n",
      "-----\n",
      "5.json\n",
      "['example_01', 'example_02', 'example_03', 'example_04', 'example_05', 'example_06', 'example_07', 'example_08', 'example_09', 'example_10', 'example_11', 'example_12', 'example_13']\n",
      "-----\n",
      "7.json\n",
      "['example_01', 'example_02', 'example_03', 'example_04', 'example_05', 'example_06', 'example_07', 'example_08', 'example_09', 'example_10', 'example_11', 'example_12', 'example_13']\n",
      "-----\n"
     ]
    }
   ],
   "source": [
    "for fn in sorted(os.listdir(\"../examples/model_outputs\")):\n",
    "    with open(f\"../examples/model_outputs/{fn}\", 'r') as f:\n",
    "        data = json.load(f)\n",
    "        valid_file_names = []\n",
    "        for example in data[\"estimate_preds\"]:\n",
    "            valid_file_names.append(example['valid_file_name'])\n",
    "        print(fn)\n",
    "        print(sorted(list(set(valid_file_names))))\n",
    "        print(\"-----\")"
   ]
  },
  {
   "cell_type": "markdown",
   "id": "d12a67d1-b9e2-4dc1-9304-21266b96e544",
   "metadata": {},
   "source": [
    "Each \"model_outputs\" file contains two model responses to each of the inputs available in the 'valid_file_name' file."
   ]
  }
 ],
 "metadata": {
  "kernelspec": {
   "display_name": "Python 3 (ipykernel)",
   "language": "python",
   "name": "python3"
  },
  "language_info": {
   "codemirror_mode": {
    "name": "ipython",
    "version": 3
   },
   "file_extension": ".py",
   "mimetype": "text/x-python",
   "name": "python",
   "nbconvert_exporter": "python",
   "pygments_lexer": "ipython3",
   "version": "3.12.4"
  }
 },
 "nbformat": 4,
 "nbformat_minor": 5
}
