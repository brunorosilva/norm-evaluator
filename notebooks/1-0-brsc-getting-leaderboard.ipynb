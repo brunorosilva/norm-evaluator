{
 "cells": [
  {
   "cell_type": "code",
   "execution_count": 29,
   "id": "f5e68149-dc48-442e-8948-f9c303a6b58e",
   "metadata": {},
   "outputs": [
    {
     "name": "stdout",
     "output_type": "stream",
     "text": [
      "2.json\n",
      "4.json\n",
      "5.json\n",
      "7.json\n"
     ]
    }
   ],
   "source": [
    "import pandas as pd\n",
    "import boto3\n",
    "\n",
    "LEADERBOARD_COLUMNS = [\n",
    "    \"model_name\",\n",
    "    \"total_score\",\n",
    "    \"section_f1_score\",\n",
    "    \"section_mape_score\",\n",
    "    \"total_cost_score\",\n",
    "    \"material_grouping_score\",\n",
    "    \"labor_grouping_score\"\n",
    "]\n",
    "\n",
    "session = boto3.Session(profile_name='personal-account')\n",
    "\n",
    "s3 = session.client('s3')\n",
    "data = []\n",
    "for obj in s3.list_objects(Bucket='norm-evaluator')[\"Contents\"]:\n",
    "    print(obj[\"Key\"])\n",
    "    if obj[\"Key\"].endswith('.json'):\n",
    "        s3.download_file('norm-evaluator', obj[\"Key\"], obj[\"Key\"])\n",
    "        data.append(pd.read_json(obj[\"Key\"], orient='index').T)"
   ]
  },
  {
   "cell_type": "code",
   "execution_count": 30,
   "id": "9774741b-1999-4ab8-82d4-87d60740f95a",
   "metadata": {},
   "outputs": [
    {
     "data": {
      "text/html": [
       "<div>\n",
       "<style scoped>\n",
       "    .dataframe tbody tr th:only-of-type {\n",
       "        vertical-align: middle;\n",
       "    }\n",
       "\n",
       "    .dataframe tbody tr th {\n",
       "        vertical-align: top;\n",
       "    }\n",
       "\n",
       "    .dataframe thead th {\n",
       "        text-align: right;\n",
       "    }\n",
       "</style>\n",
       "<table border=\"1\" class=\"dataframe\">\n",
       "  <thead>\n",
       "    <tr style=\"text-align: right;\">\n",
       "      <th></th>\n",
       "      <th>model_name</th>\n",
       "      <th>total_score</th>\n",
       "      <th>section_f1_score</th>\n",
       "      <th>section_mape_score</th>\n",
       "      <th>total_cost_score</th>\n",
       "      <th>material_grouping_score</th>\n",
       "      <th>labor_grouping_score</th>\n",
       "    </tr>\n",
       "  </thead>\n",
       "  <tbody>\n",
       "    <tr>\n",
       "      <th>0</th>\n",
       "      <td>2.0</td>\n",
       "      <td>0.673335</td>\n",
       "      <td>0.84345</td>\n",
       "      <td>0.366401</td>\n",
       "      <td>0.947752</td>\n",
       "      <td>0.526756</td>\n",
       "      <td>0.577236</td>\n",
       "    </tr>\n",
       "  </tbody>\n",
       "</table>\n",
       "</div>"
      ],
      "text/plain": [
       "   model_name  total_score  section_f1_score  section_mape_score  \\\n",
       "0         2.0     0.673335           0.84345            0.366401   \n",
       "\n",
       "   total_cost_score  material_grouping_score  labor_grouping_score  \n",
       "0          0.947752                 0.526756              0.577236  "
      ]
     },
     "execution_count": 30,
     "metadata": {},
     "output_type": "execute_result"
    }
   ],
   "source": [
    "data[0]"
   ]
  },
  {
   "cell_type": "code",
   "execution_count": 33,
   "id": "4c86434f-6c62-40d6-9cf9-5f683bd9ec75",
   "metadata": {},
   "outputs": [],
   "source": [
    "df = pd.concat(data, ignore_index=True)"
   ]
  },
  {
   "cell_type": "code",
   "execution_count": 34,
   "id": "59cea239-2ddc-4ec7-9f89-823ebd176a89",
   "metadata": {},
   "outputs": [
    {
     "data": {
      "text/html": [
       "<div>\n",
       "<style scoped>\n",
       "    .dataframe tbody tr th:only-of-type {\n",
       "        vertical-align: middle;\n",
       "    }\n",
       "\n",
       "    .dataframe tbody tr th {\n",
       "        vertical-align: top;\n",
       "    }\n",
       "\n",
       "    .dataframe thead th {\n",
       "        text-align: right;\n",
       "    }\n",
       "</style>\n",
       "<table border=\"1\" class=\"dataframe\">\n",
       "  <thead>\n",
       "    <tr style=\"text-align: right;\">\n",
       "      <th></th>\n",
       "      <th>model_name</th>\n",
       "      <th>total_score</th>\n",
       "      <th>section_f1_score</th>\n",
       "      <th>section_mape_score</th>\n",
       "      <th>total_cost_score</th>\n",
       "      <th>material_grouping_score</th>\n",
       "      <th>labor_grouping_score</th>\n",
       "    </tr>\n",
       "  </thead>\n",
       "  <tbody>\n",
       "    <tr>\n",
       "      <th>0</th>\n",
       "      <td>2.0</td>\n",
       "      <td>0.673335</td>\n",
       "      <td>0.843450</td>\n",
       "      <td>0.366401</td>\n",
       "      <td>0.947752</td>\n",
       "      <td>0.526756</td>\n",
       "      <td>0.577236</td>\n",
       "    </tr>\n",
       "    <tr>\n",
       "      <th>1</th>\n",
       "      <td>4.0</td>\n",
       "      <td>0.730302</td>\n",
       "      <td>0.865096</td>\n",
       "      <td>0.515522</td>\n",
       "      <td>0.952727</td>\n",
       "      <td>0.554302</td>\n",
       "      <td>0.613772</td>\n",
       "    </tr>\n",
       "    <tr>\n",
       "      <th>2</th>\n",
       "      <td>5.0</td>\n",
       "      <td>0.730382</td>\n",
       "      <td>0.868012</td>\n",
       "      <td>0.510979</td>\n",
       "      <td>0.960004</td>\n",
       "      <td>0.520231</td>\n",
       "      <td>0.634615</td>\n",
       "    </tr>\n",
       "    <tr>\n",
       "      <th>3</th>\n",
       "      <td>7.0</td>\n",
       "      <td>0.651117</td>\n",
       "      <td>0.803938</td>\n",
       "      <td>0.330067</td>\n",
       "      <td>0.969040</td>\n",
       "      <td>0.489170</td>\n",
       "      <td>0.516807</td>\n",
       "    </tr>\n",
       "  </tbody>\n",
       "</table>\n",
       "</div>"
      ],
      "text/plain": [
       "   model_name  total_score  section_f1_score  section_mape_score  \\\n",
       "0         2.0     0.673335          0.843450            0.366401   \n",
       "1         4.0     0.730302          0.865096            0.515522   \n",
       "2         5.0     0.730382          0.868012            0.510979   \n",
       "3         7.0     0.651117          0.803938            0.330067   \n",
       "\n",
       "   total_cost_score  material_grouping_score  labor_grouping_score  \n",
       "0          0.947752                 0.526756              0.577236  \n",
       "1          0.952727                 0.554302              0.613772  \n",
       "2          0.960004                 0.520231              0.634615  \n",
       "3          0.969040                 0.489170              0.516807  "
      ]
     },
     "execution_count": 34,
     "metadata": {},
     "output_type": "execute_result"
    }
   ],
   "source": [
    "df"
   ]
  },
  {
   "cell_type": "code",
   "execution_count": null,
   "id": "136be3ad-9a63-4cdd-9696-f26de81ee73f",
   "metadata": {},
   "outputs": [],
   "source": [
    "s3.upload_file("
   ]
  }
 ],
 "metadata": {
  "kernelspec": {
   "display_name": "Python 3 (ipykernel)",
   "language": "python",
   "name": "python3"
  },
  "language_info": {
   "codemirror_mode": {
    "name": "ipython",
    "version": 3
   },
   "file_extension": ".py",
   "mimetype": "text/x-python",
   "name": "python",
   "nbconvert_exporter": "python",
   "pygments_lexer": "ipython3",
   "version": "3.12.4"
  }
 },
 "nbformat": 4,
 "nbformat_minor": 5
}
